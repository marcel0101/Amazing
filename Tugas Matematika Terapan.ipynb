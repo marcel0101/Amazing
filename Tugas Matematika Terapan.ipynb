{
 "cells": [
  {
   "cell_type": "markdown",
   "metadata": {},
   "source": [
    "# Limit"
   ]
  },
  {
   "cell_type": "markdown",
   "metadata": {},
   "source": [
    "Yang harus dilakukan pertama adalah meng-import sympy dan memberikan nama alias menjadi sym"
   ]
  },
  {
   "cell_type": "code",
   "execution_count": 14,
   "metadata": {},
   "outputs": [],
   "source": [
    "import sympy as sym"
   ]
  },
  {
   "cell_type": "markdown",
   "metadata": {},
   "source": [
    "Kemudian kita harus meng-import fungsi limit yang berada dalam fungsi sympy."
   ]
  },
  {
   "cell_type": "code",
   "execution_count": 15,
   "metadata": {},
   "outputs": [],
   "source": [
    "from sympy import limit"
   ]
  },
  {
   "cell_type": "markdown",
   "metadata": {},
   "source": [
    "Dari fungsi sympy.abc, kita meng-import variabel x"
   ]
  },
  {
   "cell_type": "code",
   "execution_count": 17,
   "metadata": {},
   "outputs": [],
   "source": [
    "from sympy.abc import x"
   ]
  },
  {
   "cell_type": "markdown",
   "metadata": {},
   "source": [
    "Pada bagian ini saya menggunakan perintah print untuk menunjukkan soal nomor 1, setelah itu saya menggunakan fungsi limit yang berada di fungsi sympy yang diberi nama alias yaitu sym untuk mengeksekusi soal limit."
   ]
  },
  {
   "cell_type": "code",
   "execution_count": 19,
   "metadata": {},
   "outputs": [
    {
     "name": "stdout",
     "output_type": "stream",
     "text": [
      "Soal Nomor 1\n"
     ]
    },
    {
     "data": {
      "text/latex": [
       "$\\displaystyle \\lim_{x \\to 4^+}\\left(\\frac{2 x^{2} + x - 15}{x^{2} + 7 x + 12}\\right)$"
      ],
      "text/plain": [
       "Limit((2*x**2 + x - 15)/(x**2 + 7*x + 12), x, 4)"
      ]
     },
     "execution_count": 19,
     "metadata": {},
     "output_type": "execute_result"
    }
   ],
   "source": [
    "print(\"Soal Nomor 1\")\n",
    "sym.Limit((2*x**2+x-15)/(x**2+7*x+12),x,4)"
   ]
  },
  {
   "cell_type": "markdown",
   "metadata": {},
   "source": [
    "Setelah menampilkan soal, selanjutnya saya menampilkan jawaban dari soal diatas. Perintah yang saya gunakan adalah print yang berfungsi untuk menunjukkan jawaban soal 1, kemudian saya menggunakan fungsi limit dan perintah doit untuk menghitung hasil dari soal nomor 1."
   ]
  },
  {
   "cell_type": "code",
   "execution_count": 3,
   "metadata": {},
   "outputs": [
    {
     "name": "stdout",
     "output_type": "stream",
     "text": [
      "Jawaban Nomor 1\n"
     ]
    },
    {
     "data": {
      "text/latex": [
       "$\\displaystyle \\frac{3}{8}$"
      ],
      "text/plain": [
       "3/8"
      ]
     },
     "execution_count": 3,
     "metadata": {},
     "output_type": "execute_result"
    }
   ],
   "source": [
    "print(\"Jawaban Nomor 1\")\n",
    "sym.Limit((2*x**2+x-15)/(x**2+7*x+12),x,4).doit()"
   ]
  },
  {
   "cell_type": "markdown",
   "metadata": {},
   "source": [
    "Sama halnya dengan yang sebelumnya, disini saya menggunakan perintah print untuk menunjukkan soal nomor 2, kemudian saya menggunakan fungsi limit yang terdapat di fungsi sympy untuk menampilkan soal."
   ]
  },
  {
   "cell_type": "code",
   "execution_count": 4,
   "metadata": {},
   "outputs": [
    {
     "name": "stdout",
     "output_type": "stream",
     "text": [
      "Soal Nomor 2\n"
     ]
    },
    {
     "data": {
      "text/latex": [
       "$\\displaystyle \\lim_{x \\to 4^+}\\left(\\frac{3 x^{2} - 14 x + 8}{x^{2} - 3 x - 4}\\right)$"
      ],
      "text/plain": [
       "Limit((3*x**2 - 14*x + 8)/(x**2 - 3*x - 4), x, 4)"
      ]
     },
     "execution_count": 4,
     "metadata": {},
     "output_type": "execute_result"
    }
   ],
   "source": [
    "print(\"Soal Nomor 2\")\n",
    "sym.Limit((3*x**2-14*x+8)/(x**2-3*x-4),x,4)"
   ]
  },
  {
   "cell_type": "markdown",
   "metadata": {},
   "source": [
    "Kemudian saya menampilkan jawaban dari soal nomor 2. Perintah yang digunakan masih sama yaitu print untuk menunjukkan jawaban dari soal nomor 2. Lalu saya menggunakan fungsi limit dan perintah doit untuk menghitung jawaban dari soal nomor 2."
   ]
  },
  {
   "cell_type": "code",
   "execution_count": 5,
   "metadata": {},
   "outputs": [
    {
     "name": "stdout",
     "output_type": "stream",
     "text": [
      "Jawaban Nomor 2\n"
     ]
    },
    {
     "data": {
      "text/latex": [
       "$\\displaystyle 2$"
      ],
      "text/plain": [
       "2"
      ]
     },
     "execution_count": 5,
     "metadata": {},
     "output_type": "execute_result"
    }
   ],
   "source": [
    "print(\"Jawaban Nomor 2\")\n",
    "sym.Limit((3*x**2-14*x+8)/(x**2-3*x-4),x,4).doit()"
   ]
  },
  {
   "cell_type": "markdown",
   "metadata": {},
   "source": [
    "Menggunakan perintah print untuk menunjukkan soal nomor 3. Kemudian memperlihatkan soal tersebut menggunakan fungsi limit yang berada di fungsi sympy."
   ]
  },
  {
   "cell_type": "code",
   "execution_count": 6,
   "metadata": {},
   "outputs": [
    {
     "name": "stdout",
     "output_type": "stream",
     "text": [
      "Soal Nomor 3\n"
     ]
    },
    {
     "data": {
      "text/latex": [
       "$\\displaystyle \\lim_{x \\to 2^+}\\left(\\frac{x^{2} - 5 x + 6}{x^{2} + 2 x - 8}\\right)$"
      ],
      "text/plain": [
       "Limit((x**2 - 5*x + 6)/(x**2 + 2*x - 8), x, 2)"
      ]
     },
     "execution_count": 6,
     "metadata": {},
     "output_type": "execute_result"
    }
   ],
   "source": [
    "print(\"Soal Nomor 3\")\n",
    "sym.Limit((x**2-5*x+6)/(x**2+2*x-8),x,2)"
   ]
  },
  {
   "cell_type": "markdown",
   "metadata": {},
   "source": [
    "Menggunakan perintah print untuk menunjukkan jawaban nomor 3. Lalu menghitung hasil dari soal nomor 3 menggunakan fungsi limit ditambah dengan perintah doit."
   ]
  },
  {
   "cell_type": "code",
   "execution_count": 7,
   "metadata": {},
   "outputs": [
    {
     "name": "stdout",
     "output_type": "stream",
     "text": [
      "Jawaban Nomor 3\n"
     ]
    },
    {
     "data": {
      "text/latex": [
       "$\\displaystyle - \\frac{1}{6}$"
      ],
      "text/plain": [
       "-1/6"
      ]
     },
     "execution_count": 7,
     "metadata": {},
     "output_type": "execute_result"
    }
   ],
   "source": [
    "print(\"Jawaban Nomor 3\")\n",
    "sym.Limit((x**2-5*x+6)/(x**2+2*x-8),x,2).doit()"
   ]
  },
  {
   "cell_type": "markdown",
   "metadata": {},
   "source": [
    "Menggunakan perintah print untuk menunjukkan soal nomor 4. Kemudian memperlihatkan soal tersebut menggunakan fungsi limit yang berada di fungsi sympy."
   ]
  },
  {
   "cell_type": "code",
   "execution_count": 8,
   "metadata": {},
   "outputs": [
    {
     "name": "stdout",
     "output_type": "stream",
     "text": [
      "Soal Nomor 4\n"
     ]
    },
    {
     "data": {
      "text/latex": [
       "$\\displaystyle \\lim_{x \\to 3^+}\\left(\\frac{x^{2} - 9}{x^{2} - x - 6}\\right)$"
      ],
      "text/plain": [
       "Limit((x**2 - 9)/(x**2 - x - 6), x, 3)"
      ]
     },
     "execution_count": 8,
     "metadata": {},
     "output_type": "execute_result"
    }
   ],
   "source": [
    "print(\"Soal Nomor 4\")\n",
    "sym.Limit((x**2-9)/(x**2-x-6),x,3)"
   ]
  },
  {
   "cell_type": "markdown",
   "metadata": {},
   "source": [
    "Menggunakan perintah print untuk menunjukkan jawaban nomor 4. Lalu menghitung hasil dari soal nomor 4 menggunakan fungsi limit ditambah dengan perintah doit."
   ]
  },
  {
   "cell_type": "code",
   "execution_count": 27,
   "metadata": {},
   "outputs": [
    {
     "name": "stdout",
     "output_type": "stream",
     "text": [
      "Jawaban Nomor 4\n"
     ]
    },
    {
     "data": {
      "text/latex": [
       "$\\displaystyle \\frac{6}{5}$"
      ],
      "text/plain": [
       "6/5"
      ]
     },
     "execution_count": 27,
     "metadata": {},
     "output_type": "execute_result"
    }
   ],
   "source": [
    "print(\"Jawaban Nomor 4\")\n",
    "sym.Limit((x**2-9)/(x**2-x-6),x,3).doit()"
   ]
  },
  {
   "cell_type": "markdown",
   "metadata": {},
   "source": [
    "# Turunan"
   ]
  },
  {
   "cell_type": "markdown",
   "metadata": {},
   "source": [
    "Hal pertama yang harus dilakukan adalah meng-import fungsi math."
   ]
  },
  {
   "cell_type": "code",
   "execution_count": 48,
   "metadata": {},
   "outputs": [],
   "source": [
    "import math"
   ]
  },
  {
   "cell_type": "markdown",
   "metadata": {},
   "source": [
    "Kemudian meng-import simbol x y z yang nantinya akan digunakan dalam operasi penghitungan."
   ]
  },
  {
   "cell_type": "code",
   "execution_count": 55,
   "metadata": {},
   "outputs": [],
   "source": [
    "x, y, z = symbols('x y z')"
   ]
  },
  {
   "cell_type": "markdown",
   "metadata": {},
   "source": [
    "Menggunakan perintah print untuk menampilkan soal ke 4. Lalu dengan fungsi derivative menampilkan soal ke dalam program."
   ]
  },
  {
   "cell_type": "code",
   "execution_count": 58,
   "metadata": {},
   "outputs": [
    {
     "name": "stdout",
     "output_type": "stream",
     "text": [
      "Soal Nomor 4\n"
     ]
    },
    {
     "data": {
      "text/latex": [
       "$\\displaystyle \\frac{d}{d y} \\left(12 + \\frac{8}{y^{2}} - \\frac{9}{y^{3}} + \\frac{1}{y^{4}}\\right)$"
      ],
      "text/plain": [
       "Derivative(12 + 8/y**2 - 9/y**3 + y**(-4), y)"
      ]
     },
     "execution_count": 58,
     "metadata": {},
     "output_type": "execute_result"
    }
   ],
   "source": [
    "print('Soal Nomor 4')\n",
    "a = Derivative(y**-4-9*y**-3+8*y**-2+12)\n",
    "a"
   ]
  },
  {
   "cell_type": "markdown",
   "metadata": {},
   "source": [
    "Menggunakan perintah print untuk menunjukkan jawaban dari soal nomor 4. Lalu menampilkan hasil dari operasi turunan soal nomor 4 menggunakan fungsi derivative dan perintah doit untuk mengeksekusinya."
   ]
  },
  {
   "cell_type": "code",
   "execution_count": 41,
   "metadata": {},
   "outputs": [
    {
     "name": "stdout",
     "output_type": "stream",
     "text": [
      "Jawaban Nomor 4\n"
     ]
    },
    {
     "data": {
      "text/latex": [
       "$\\displaystyle - \\frac{16}{y^{3}} + \\frac{27}{y^{4}} - \\frac{4}{y^{5}}$"
      ],
      "text/plain": [
       "-16/y**3 + 27/y**4 - 4/y**5"
      ]
     },
     "execution_count": 41,
     "metadata": {},
     "output_type": "execute_result"
    }
   ],
   "source": [
    "print('Jawaban Nomor 4')\n",
    "a.doit()"
   ]
  },
  {
   "cell_type": "markdown",
   "metadata": {},
   "source": [
    "Menggunakan perintah print untuk menampilkan soal ke 9. Lalu dengan fungsi derivative menampilkan soal ke dalam program."
   ]
  },
  {
   "cell_type": "code",
   "execution_count": 42,
   "metadata": {},
   "outputs": [
    {
     "name": "stdout",
     "output_type": "stream",
     "text": [
      "Soal Nomor 9\n"
     ]
    },
    {
     "data": {
      "text/latex": [
       "$\\displaystyle \\frac{d}{d x} x \\left(3 x^{2} - 9\\right)$"
      ],
      "text/plain": [
       "Derivative(x*(3*x**2 - 9), x)"
      ]
     },
     "execution_count": 42,
     "metadata": {},
     "output_type": "execute_result"
    }
   ],
   "source": [
    "print('Soal Nomor 9')\n",
    "b = Derivative(x*(3*x**2-9))\n",
    "b"
   ]
  },
  {
   "cell_type": "markdown",
   "metadata": {},
   "source": [
    "Menggunakan perintah print untuk menunjukkan jawaban dari soal nomor 9. Lalu menampilkan hasil dari operasi turunan soal nomor 9 menggunakan fungsi derivative dan perintah doit untuk mengeksekusinya."
   ]
  },
  {
   "cell_type": "code",
   "execution_count": 43,
   "metadata": {},
   "outputs": [
    {
     "name": "stdout",
     "output_type": "stream",
     "text": [
      "Jawaban Nomor 9\n"
     ]
    },
    {
     "data": {
      "text/latex": [
       "$\\displaystyle 9 x^{2} - 9$"
      ],
      "text/plain": [
       "9*x**2 - 9"
      ]
     },
     "execution_count": 43,
     "metadata": {},
     "output_type": "execute_result"
    }
   ],
   "source": [
    "print('Jawaban Nomor 9')\n",
    "b.doit()"
   ]
  },
  {
   "cell_type": "markdown",
   "metadata": {},
   "source": [
    "Menggunakan perintah print untuk menampilkan soal nomor ke 14. Kemudian menampilkan soal ke dalam program menggunakan fungsi derivative."
   ]
  },
  {
   "cell_type": "code",
   "execution_count": 44,
   "metadata": {},
   "outputs": [
    {
     "name": "stdout",
     "output_type": "stream",
     "text": [
      "Soal Nomor 14\n"
     ]
    },
    {
     "data": {
      "text/latex": [
       "$\\displaystyle \\frac{d}{d z} \\left(2 z^{4} - z^{3} - 3 z^{2}\\right)$"
      ],
      "text/plain": [
       "Derivative(2*z**4 - z**3 - 3*z**2, z)"
      ]
     },
     "execution_count": 44,
     "metadata": {},
     "output_type": "execute_result"
    }
   ],
   "source": [
    "print('Soal Nomor 14')\n",
    "c = Derivative(2*z**4-z**3-3*z**2)\n",
    "c"
   ]
  },
  {
   "cell_type": "markdown",
   "metadata": {},
   "source": [
    "Menggunakan perintah print untuk menunjukkan jawaban nomor 14. Lalu menampilkan hasil dari operasi turunan soal nomor 14 menggunakan fungsi factor untuk memfaktorkan hasil dari operasi turunan."
   ]
  },
  {
   "cell_type": "code",
   "execution_count": 45,
   "metadata": {},
   "outputs": [
    {
     "name": "stdout",
     "output_type": "stream",
     "text": [
      "Jawaban Nomor 14\n"
     ]
    },
    {
     "data": {
      "text/latex": [
       "$\\displaystyle z \\left(8 z^{2} - 3 z - 6\\right)$"
      ],
      "text/plain": [
       "z*(8*z**2 - 3*z - 6)"
      ]
     },
     "execution_count": 45,
     "metadata": {},
     "output_type": "execute_result"
    }
   ],
   "source": [
    "print('Jawaban Nomor 14')\n",
    "factor(c.doit())"
   ]
  },
  {
   "cell_type": "markdown",
   "metadata": {},
   "source": [
    "Masih melanjutkan jawaban diatas. Setelah difaktorkan gunakan persamaan kuadrat untuk mencari jawaban nomor 14. Disini saya menggunakan variabel z1 dan fungsi sqrt yang terdapat pada sympy untuk menampilkan akar."
   ]
  },
  {
   "cell_type": "code",
   "execution_count": 46,
   "metadata": {},
   "outputs": [
    {
     "data": {
      "text/latex": [
       "$\\displaystyle \\frac{3}{16} + \\frac{\\sqrt{201}}{16}$"
      ],
      "text/plain": [
       "3/16 + sqrt(201)/16"
      ]
     },
     "execution_count": 46,
     "metadata": {},
     "output_type": "execute_result"
    }
   ],
   "source": [
    "z1 = (3+sym.sqrt(201))/16\n",
    "z1"
   ]
  },
  {
   "cell_type": "markdown",
   "metadata": {},
   "source": [
    "Sama halnya dengan yang sebelumnya. Dalam baris ini gunakan persamaan kuadrat untuk mencari jawaban nomor 14. Terdapat variabel z1 dan fungsi sqrt yang berada pada math yang digunakan untuk menghitung operasi aritmatika."
   ]
  },
  {
   "cell_type": "code",
   "execution_count": 49,
   "metadata": {},
   "outputs": [
    {
     "data": {
      "text/plain": [
       "1.0735904299223642"
      ]
     },
     "execution_count": 49,
     "metadata": {},
     "output_type": "execute_result"
    }
   ],
   "source": [
    "z1 = (3+math.sqrt(201))/16\n",
    "z1"
   ]
  },
  {
   "cell_type": "markdown",
   "metadata": {},
   "source": [
    "Setelah difaktorkan gunakan persamaan kuadrat untuk mencari jawaban nomor 14. Disini saya menggunakan variabel z2 dan fungsi sqrt yang terdapat pada sympy untuk menampilkan akar."
   ]
  },
  {
   "cell_type": "code",
   "execution_count": 50,
   "metadata": {},
   "outputs": [
    {
     "data": {
      "text/latex": [
       "$\\displaystyle \\frac{3}{16} - \\frac{\\sqrt{201}}{16}$"
      ],
      "text/plain": [
       "3/16 - sqrt(201)/16"
      ]
     },
     "execution_count": 50,
     "metadata": {},
     "output_type": "execute_result"
    }
   ],
   "source": [
    "z2 = (3-sym.sqrt(201))/16\n",
    "z2"
   ]
  },
  {
   "cell_type": "markdown",
   "metadata": {},
   "source": [
    "Dalam baris ini gunakan persamaan kuadrat untuk mencari jawaban nomor 14. Terdapat variabel z1 dan fungsi sqrt yang berada pada math yang digunakan untuk menghitung operasi aritmatika."
   ]
  },
  {
   "cell_type": "code",
   "execution_count": 51,
   "metadata": {},
   "outputs": [
    {
     "data": {
      "text/plain": [
       "-0.6985904299223641"
      ]
     },
     "execution_count": 51,
     "metadata": {},
     "output_type": "execute_result"
    }
   ],
   "source": [
    "z2 = (3-math.sqrt(201))/16\n",
    "z2"
   ]
  },
  {
   "cell_type": "markdown",
   "metadata": {},
   "source": [
    "Menggunakan perintah print untuk menampilkan soal nomor ke 14. Kemudian menampilkan soal ke dalam program menggunakan fungsi derivative."
   ]
  },
  {
   "cell_type": "code",
   "execution_count": 52,
   "metadata": {},
   "outputs": [
    {
     "name": "stdout",
     "output_type": "stream",
     "text": [
      "Soal Nomor 19\n"
     ]
    },
    {
     "data": {
      "text/latex": [
       "$\\displaystyle \\frac{d}{d x} \\left(x - 2\\right)^{2} \\left(x + 1\\right)$"
      ],
      "text/plain": [
       "Derivative((x - 2)**2*(x + 1), x)"
      ]
     },
     "execution_count": 52,
     "metadata": {},
     "output_type": "execute_result"
    }
   ],
   "source": [
    "print('Soal Nomor 19')\n",
    "d = Derivative((x+1)*(x-2)**2)\n",
    "d"
   ]
  },
  {
   "cell_type": "markdown",
   "metadata": {},
   "source": [
    "Menggunakan perintah print untuk menunjukkan jawaban nomor 19. Lalu memanggil variabel d dan menggunakan perintah doit untuk mengeksekusi hasil dari soal nomor 19."
   ]
  },
  {
   "cell_type": "code",
   "execution_count": 63,
   "metadata": {},
   "outputs": [
    {
     "name": "stdout",
     "output_type": "stream",
     "text": [
      "Jawaban Nomor 19\n"
     ]
    },
    {
     "data": {
      "text/latex": [
       "$\\displaystyle \\left(x - 2\\right)^{2} + \\left(x + 1\\right) \\left(2 x - 4\\right)$"
      ],
      "text/plain": [
       "(x - 2)**2 + (x + 1)*(2*x - 4)"
      ]
     },
     "execution_count": 63,
     "metadata": {},
     "output_type": "execute_result"
    }
   ],
   "source": [
    "print('Jawaban Nomor 19')\n",
    "d.doit()"
   ]
  },
  {
   "cell_type": "markdown",
   "metadata": {},
   "source": [
    "# Integral"
   ]
  },
  {
   "cell_type": "markdown",
   "metadata": {},
   "source": [
    "Meng-import simbol-simbol yang akan digunakan dalam program."
   ]
  },
  {
   "cell_type": "code",
   "execution_count": 64,
   "metadata": {},
   "outputs": [],
   "source": [
    "w, x, y = symbols('w x y')"
   ]
  },
  {
   "cell_type": "markdown",
   "metadata": {},
   "source": [
    "Menggunakan perintah print untuk menampilkan soal nomor ke 4. Lalu membuat variabel a yang berisi fungsi integral beserta soal dan memanggil variabel a tersebut."
   ]
  },
  {
   "cell_type": "code",
   "execution_count": 73,
   "metadata": {},
   "outputs": [
    {
     "name": "stdout",
     "output_type": "stream",
     "text": [
      "Soal Nomor 4\n"
     ]
    },
    {
     "data": {
      "text/latex": [
       "$\\displaystyle \\int \\left(-8 + \\frac{1}{w^{2}} + \\frac{10}{w^{5}}\\right)\\, dw$"
      ],
      "text/plain": [
       "Integral(-8 + w**(-2) + 10/w**5, w)"
      ]
     },
     "execution_count": 73,
     "metadata": {},
     "output_type": "execute_result"
    }
   ],
   "source": [
    "print('Soal Nomor 4')\n",
    "a = Integral(w**-2+10*w**-5-8)\n",
    "a"
   ]
  },
  {
   "cell_type": "markdown",
   "metadata": {},
   "source": [
    "Menggunakan perintah print untuk menampilkan jawaban nomor 4. Lalu memanggil variabel di satukan dengan perintah doit dan fungsi simplify. Perintah doit untuk menghitung jumlah dari operasi aritmatika dan fungsi simplify untuk menyederhanakan jawaban yang diperoleh dari perintah doit."
   ]
  },
  {
   "cell_type": "code",
   "execution_count": 66,
   "metadata": {},
   "outputs": [
    {
     "name": "stdout",
     "output_type": "stream",
     "text": [
      "Jawaban Nomor 4\n"
     ]
    },
    {
     "data": {
      "text/latex": [
       "$\\displaystyle - 8 w - \\frac{1}{w} - \\frac{5}{2 w^{4}}$"
      ],
      "text/plain": [
       "-8*w - 1/w - 5/(2*w**4)"
      ]
     },
     "execution_count": 66,
     "metadata": {},
     "output_type": "execute_result"
    }
   ],
   "source": [
    "print('Jawaban Nomor 4')\n",
    "simplify(a.doit())"
   ]
  },
  {
   "cell_type": "markdown",
   "metadata": {},
   "source": [
    "Menggunakan perintah print untuk menampilkan soal nomor ke 9. Lalu membuat variabel b yang berisi fungsi integral beserta soal dan memanggil variabel b tersebut."
   ]
  },
  {
   "cell_type": "code",
   "execution_count": 67,
   "metadata": {},
   "outputs": [
    {
     "name": "stdout",
     "output_type": "stream",
     "text": [
      "Soal Nomor 9\n"
     ]
    },
    {
     "data": {
      "text/latex": [
       "$\\displaystyle \\int \\left(- \\frac{2}{y^{1.33333333333333}} + \\frac{7}{3 y^{6}} + \\frac{1}{y^{10}}\\right)\\, dy$"
      ],
      "text/plain": [
       "Integral(-2*y**(-1.33333333333333) + 7/(3*y**6) + y**(-10), y)"
      ]
     },
     "execution_count": 67,
     "metadata": {},
     "output_type": "execute_result"
    }
   ],
   "source": [
    "print('Soal Nomor 9')\n",
    "b = Integral(7/(3*y**6)+1/y**10-2*y**(-4/3))\n",
    "b"
   ]
  },
  {
   "cell_type": "markdown",
   "metadata": {},
   "source": [
    "Menggunakan perintah print untuk menampilkan jawaban nomor 9. Lalu memanggil variabel di satukan dengan perintah doit. Perintah doit untuk menghitung jumlah dari operasi aritmatika."
   ]
  },
  {
   "cell_type": "code",
   "execution_count": 68,
   "metadata": {},
   "outputs": [
    {
     "name": "stdout",
     "output_type": "stream",
     "text": [
      "Jawaban Nomor 9\n"
     ]
    },
    {
     "data": {
      "text/latex": [
       "$\\displaystyle \\frac{6.0}{y^{0.333333333333333}} - \\frac{7}{15 y^{5}} - \\frac{1}{9 y^{9}}$"
      ],
      "text/plain": [
       "6.0*y**(-0.333333333333333) - 7/(15*y**5) - 1/(9*y**9)"
      ]
     },
     "execution_count": 68,
     "metadata": {},
     "output_type": "execute_result"
    }
   ],
   "source": [
    "print('Jawaban Nomor 9')\n",
    "b.doit()"
   ]
  },
  {
   "cell_type": "markdown",
   "metadata": {},
   "source": [
    "Menggunakan perintah print untuk menampilkan soal nomor ke 14. Lalu membuat variabel c yang berisi fungsi integral beserta soal dan memanggil variabel c tersebut"
   ]
  },
  {
   "cell_type": "code",
   "execution_count": 69,
   "metadata": {},
   "outputs": [
    {
     "name": "stdout",
     "output_type": "stream",
     "text": [
      "Soal Nomor 14\n"
     ]
    },
    {
     "data": {
      "text/latex": [
       "$\\displaystyle \\int \\left(\\sin{\\left(x \\right)} + 10 \\csc^{2}{\\left(x \\right)}\\right)\\, dx$"
      ],
      "text/plain": [
       "Integral(sin(x) + 10*csc(x)**2, x)"
      ]
     },
     "execution_count": 69,
     "metadata": {},
     "output_type": "execute_result"
    }
   ],
   "source": [
    "print('Soal Nomor 14')\n",
    "c = Integral(sin(x) + 10*csc(x)**2)\n",
    "c"
   ]
  },
  {
   "cell_type": "markdown",
   "metadata": {},
   "source": [
    "Menggunakan perintah print untuk menampilkan jawaban nomor 14. Lalu memanggil variabel di satukan dengan perintah doit. Perintah doit untuk menghitung jumlah dari operasi aritmatika."
   ]
  },
  {
   "cell_type": "code",
   "execution_count": 70,
   "metadata": {},
   "outputs": [
    {
     "name": "stdout",
     "output_type": "stream",
     "text": [
      "Jawaban Nomor 14\n"
     ]
    },
    {
     "data": {
      "text/latex": [
       "$\\displaystyle - \\cos{\\left(x \\right)} - \\frac{10 \\cos{\\left(x \\right)}}{\\sin{\\left(x \\right)}}$"
      ],
      "text/plain": [
       "-cos(x) - 10*cos(x)/sin(x)"
      ]
     },
     "execution_count": 70,
     "metadata": {},
     "output_type": "execute_result"
    }
   ],
   "source": [
    "print('Jawaban Nomor 14')\n",
    "c.doit()"
   ]
  },
  {
   "cell_type": "markdown",
   "metadata": {},
   "source": [
    "Menggunakan perintah print untuk menampilkan soal nomor ke 19. Lalu membuat variabel d yang berisi fungsi integral beserta soal dan memanggil variabel d tersebut"
   ]
  },
  {
   "cell_type": "code",
   "execution_count": 71,
   "metadata": {},
   "outputs": [
    {
     "name": "stdout",
     "output_type": "stream",
     "text": [
      "Soal Nomor 19\n"
     ]
    },
    {
     "data": {
      "text/latex": [
       "$\\displaystyle \\int \\left(- \\frac{2}{w} + \\frac{6}{w^{3}}\\right)\\, dw$"
      ],
      "text/plain": [
       "Integral(-2/w + 6/w**3, w)"
      ]
     },
     "execution_count": 71,
     "metadata": {},
     "output_type": "execute_result"
    }
   ],
   "source": [
    "print('Soal Nomor 19')\n",
    "d = Integral(6*w**-3 - 2*w**-1)\n",
    "d"
   ]
  },
  {
   "cell_type": "markdown",
   "metadata": {},
   "source": [
    "Menggunakan perintah print untuk menampilkan jawaban nomor 19. Lalu memanggil variabel di satukan dengan perintah doit. Perintah doit untuk menghitung jumlah dari operasi aritmatika."
   ]
  },
  {
   "cell_type": "code",
   "execution_count": 72,
   "metadata": {},
   "outputs": [
    {
     "name": "stdout",
     "output_type": "stream",
     "text": [
      "Jawaban Nomor 19\n"
     ]
    },
    {
     "data": {
      "text/latex": [
       "$\\displaystyle - 2 \\log{\\left(w \\right)} - \\frac{3}{w^{2}}$"
      ],
      "text/plain": [
       "-2*log(w) - 3/w**2"
      ]
     },
     "execution_count": 72,
     "metadata": {},
     "output_type": "execute_result"
    }
   ],
   "source": [
    "print('Jawaban Nomor 19')\n",
    "d.doit()"
   ]
  },
  {
   "cell_type": "code",
   "execution_count": null,
   "metadata": {},
   "outputs": [],
   "source": []
  }
 ],
 "metadata": {
  "kernelspec": {
   "display_name": "Python 3",
   "language": "python",
   "name": "python3"
  },
  "language_info": {
   "codemirror_mode": {
    "name": "ipython",
    "version": 3
   },
   "file_extension": ".py",
   "mimetype": "text/x-python",
   "name": "python",
   "nbconvert_exporter": "python",
   "pygments_lexer": "ipython3",
   "version": "3.7.3"
  }
 },
 "nbformat": 4,
 "nbformat_minor": 2
}
